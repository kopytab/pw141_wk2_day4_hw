{
 "cells": [
  {
   "cell_type": "markdown",
   "metadata": {},
   "source": [
    "# Object-Oriented-Programming (OOP)"
   ]
  },
  {
   "cell_type": "markdown",
   "metadata": {},
   "source": [
    "## Tasks Today:\n",
    "\n",
    "   \n",
    "\n",
    "1) <b>Creating a Class (Initializing/Declaring)</b> <br>\n",
    "2) <b>Using a Class (Instantiating)</b> <br>\n",
    " &nbsp;&nbsp;&nbsp;&nbsp; a) Creating One Instance <br>\n",
    " &nbsp;&nbsp;&nbsp;&nbsp; b) Creating Multiple Instances <br>\n",
    " &nbsp;&nbsp;&nbsp;&nbsp; c) In-Class Exercise #1 - Create a Class 'Car' and instantiate three different makes of cars <br>\n",
    "3) <b>The \\__init\\__() Method</b> <br>\n",
    " &nbsp;&nbsp;&nbsp;&nbsp; a) The 'self' Attribute <br>\n",
    "4) <b>Class Attributes</b> <br>\n",
    " &nbsp;&nbsp;&nbsp;&nbsp; a) Initializing Attributes <br>\n",
    " &nbsp;&nbsp;&nbsp;&nbsp; b) Setting an Attribute Outside of the \\__init\\__() Method <br>\n",
    " &nbsp;&nbsp;&nbsp;&nbsp; c) Setting Defaults for Attributes <br>\n",
    " &nbsp;&nbsp;&nbsp;&nbsp; d) Accessing Class Attributes <br>\n",
    " &nbsp;&nbsp;&nbsp;&nbsp; e) Changing Class Attributes <br>\n",
    " &nbsp;&nbsp;&nbsp;&nbsp; f) In-Class Exercise #2 - Add a color and wheels attribute to your 'Car' class <br>\n",
    "5) <b>Class Methods</b> <br>\n",
    " &nbsp;&nbsp;&nbsp;&nbsp; a) Creating <br>\n",
    " &nbsp;&nbsp;&nbsp;&nbsp; b) Calling <br>\n",
    " &nbsp;&nbsp;&nbsp;&nbsp; c) Modifying an Attribute's Value Through a Method <br>\n",
    " &nbsp;&nbsp;&nbsp;&nbsp; d) Incrementing an Attribute's Value Through a Method <br>\n",
    " &nbsp;&nbsp;&nbsp;&nbsp; e) In-Class Exercise #3 - Add a method that prints the cars color and wheel number, then call them <br>\n",
    "6) <b>Inheritance</b> <br>\n",
    " &nbsp;&nbsp;&nbsp;&nbsp; a) Syntax for Inheriting from a Parent Class <br>\n",
    " &nbsp;&nbsp;&nbsp;&nbsp; b) The \\__init\\__() Method for a Child Class (super()) <br>\n",
    " &nbsp;&nbsp;&nbsp;&nbsp; c) Defining Attributes and Methods for the Child Class <br>\n",
    " &nbsp;&nbsp;&nbsp;&nbsp; d) Method Overriding <br>\n",
    " &nbsp;&nbsp;&nbsp;&nbsp; e) In-Class Exercise #4 - Create a class 'Ford' that inherits from 'Car' class and initialize it as a Blue Ford Explorer with 4 wheels using the super() method <br>\n",
    "7) <b>Classes as Attributes</b> <br>\n",
    "8) <b>Exercises</b> <br>\n",
    " &nbsp;&nbsp;&nbsp;&nbsp; a) Exercise #1 - Turn the shopping cart program from yesterday into an object-oriented program <br>"
   ]
  },
  {
   "cell_type": "markdown",
   "metadata": {},
   "source": [
    "## Creating a Class (Initializing/Declaring)\n",
    "<p>When creating a class, function, or even a variable you are initializing that object. Initializing and Declaring occur at the same time in Python, whereas in lower level languages you have to declare an object before initializing it. This is the first step in the process of using a class.</p>"
   ]
  },
  {
   "cell_type": "code",
   "execution_count": 1,
   "metadata": {},
   "outputs": [],
   "source": [
    "class Car():\n",
    "    wheels = 4\n",
    "    color = 'blue'\n",
    "    \n",
    "class Truck():\n",
    "    wheels = 4\n",
    "    color = 'black'"
   ]
  },
  {
   "cell_type": "markdown",
   "metadata": {},
   "source": [
    "## Using a Class (Instantiating)\n",
    "<p>The process of creating a class is called <i>Instantiating</i>. Each time you create a variable of that type of class, it is referred to as an <i>Instance</i> of that class. This is the second step in the process of using a class.</p>"
   ]
  },
  {
   "cell_type": "markdown",
   "metadata": {},
   "source": [
    "##### Creating One Instance"
   ]
  },
  {
   "cell_type": "code",
   "execution_count": 2,
   "metadata": {},
   "outputs": [],
   "source": [
    "ford = Car()"
   ]
  },
  {
   "cell_type": "code",
   "execution_count": 3,
   "metadata": {},
   "outputs": [
    {
     "name": "stdout",
     "output_type": "stream",
     "text": [
      "<class '__main__.Car'>\n",
      "<__main__.Car object at 0x110aef5d0>\n",
      "4\n"
     ]
    }
   ],
   "source": [
    "print(type(ford))\n",
    "print(ford)\n",
    "print(ford.wheels)"
   ]
  },
  {
   "cell_type": "markdown",
   "metadata": {},
   "source": [
    "##### Creating Multiple Instances"
   ]
  },
  {
   "cell_type": "code",
   "execution_count": 5,
   "metadata": {},
   "outputs": [],
   "source": [
    "chevy = Car()\n",
    "aston = Car()"
   ]
  },
  {
   "cell_type": "code",
   "execution_count": 6,
   "metadata": {},
   "outputs": [
    {
     "name": "stdout",
     "output_type": "stream",
     "text": [
      "4 4\n"
     ]
    }
   ],
   "source": [
    "print(chevy.wheels, aston.wheels)"
   ]
  },
  {
   "cell_type": "code",
   "execution_count": 8,
   "metadata": {},
   "outputs": [],
   "source": [
    "aston.name = \"martin\""
   ]
  },
  {
   "cell_type": "code",
   "execution_count": 10,
   "metadata": {},
   "outputs": [
    {
     "name": "stdout",
     "output_type": "stream",
     "text": [
      "martin\n"
     ]
    }
   ],
   "source": [
    "print(aston.name)"
   ]
  },
  {
   "cell_type": "markdown",
   "metadata": {},
   "source": [
    "##### In-Class Exercise #1 - Create a Class 'Car' and Instantiate three different makes of cars"
   ]
  },
  {
   "cell_type": "code",
   "execution_count": 11,
   "metadata": {},
   "outputs": [],
   "source": [
    "class Comp():\n",
    "    hardware = True\n",
    "    software = 10\n",
    "    keyboard = None\n",
    "    \n",
    "mac = Comp()\n",
    "pc = Comp()\n",
    "linny = Comp()\n",
    "    \n"
   ]
  },
  {
   "cell_type": "markdown",
   "metadata": {},
   "source": [
    "## The \\__init\\__() Method <br>\n",
    "<p>This method is used in almost every created class, and called only once upon the creation of the class instance. This method will initialize all variables needed for the object.</p>"
   ]
  },
  {
   "cell_type": "code",
   "execution_count": 16,
   "metadata": {},
   "outputs": [
    {
     "name": "stdout",
     "output_type": "stream",
     "text": [
      "rubber 5\n"
     ]
    }
   ],
   "source": [
    "class Car():\n",
    "    wheels = 4\n",
    "    \n",
    "    def __init__(self, doors, sunroof=False):\n",
    "        self.doors = doors\n",
    "        self.sunroof = sunroof\n",
    "        self.tires = 'rubber'\n",
    "plymouth = Car(4)\n",
    "\n",
    "plymouth.wheels = 5\n",
    "print(plymouth.tires, plymouth.wheels)"
   ]
  },
  {
   "cell_type": "markdown",
   "metadata": {},
   "source": [
    "##### The 'self' Attribute <br>\n",
    "<p>This attribute is required to keep track of specific instance's attributes. Without the self attribute, the program would not know how to reference or keep track of an instance's attributes.</p>"
   ]
  },
  {
   "cell_type": "code",
   "execution_count": null,
   "metadata": {},
   "outputs": [],
   "source": [
    "# see above"
   ]
  },
  {
   "cell_type": "markdown",
   "metadata": {},
   "source": [
    "## Class Attributes <br>\n",
    "<p>While variables are inside of a class, they are referred to as attributes and not variables. When someone says 'attribute' you know they're speaking about a class. Attributes can be initialized through the init method, or outside of it.</p>"
   ]
  },
  {
   "cell_type": "markdown",
   "metadata": {},
   "source": [
    "##### Initializing Attributes"
   ]
  },
  {
   "cell_type": "code",
   "execution_count": null,
   "metadata": {},
   "outputs": [],
   "source": [
    "# see above\n",
    "\n",
    "class Car():\n",
    "    wheels = 4\n",
    "    \n",
    "    def __init__(self, doors, sunroof=False): # Setting defaults\n",
    "        self.doors = doors\n",
    "        self.sunroof = sunroof\n",
    "        self.tires = 'rubber'"
   ]
  },
  {
   "cell_type": "markdown",
   "metadata": {},
   "source": [
    "##### Accessing Class Attributes"
   ]
  },
  {
   "cell_type": "code",
   "execution_count": null,
   "metadata": {
    "scrolled": true
   },
   "outputs": [],
   "source": [
    "# See Above"
   ]
  },
  {
   "cell_type": "markdown",
   "metadata": {},
   "source": [
    "##### Setting Defaults for Attributes"
   ]
  },
  {
   "cell_type": "code",
   "execution_count": null,
   "metadata": {},
   "outputs": [],
   "source": [
    "#See Above"
   ]
  },
  {
   "cell_type": "markdown",
   "metadata": {},
   "source": [
    "##### Changing Class Attributes <br>\n",
    "<p>Keep in mind there are global class attributes and then there are attributes only available to each class instance which won't effect other classes.</p>"
   ]
  },
  {
   "cell_type": "code",
   "execution_count": null,
   "metadata": {},
   "outputs": [],
   "source": [
    "# plymouth = Car(4)\n",
    "\n",
    "# plymouth.wheels = 5\n",
    "# print(plymouth.tires, plymouth.wheels)"
   ]
  },
  {
   "cell_type": "code",
   "execution_count": null,
   "metadata": {},
   "outputs": [],
   "source": []
  },
  {
   "cell_type": "markdown",
   "metadata": {},
   "source": [
    "##### In-Class Exercise #2 - Add a doors and seats attribute to your 'Car' class then print out two different instances with different doors and seats"
   ]
  },
  {
   "cell_type": "code",
   "execution_count": 22,
   "metadata": {},
   "outputs": [
    {
     "name": "stdout",
     "output_type": "stream",
     "text": [
      "2 2 False\n",
      "2 True 5\n"
     ]
    }
   ],
   "source": [
    "class Car():\n",
    "    wheels = 4\n",
    "    \n",
    "    def __init__(self, doors, sunroof=False): # Setting defaults\n",
    "        self.doors = doors\n",
    "        self.sunroof = sunroof\n",
    "        self.tires = 'rubber'\n",
    "        self.seats = 5\n",
    "        \n",
    "        \n",
    "subaru = Car(2, True)\n",
    "\n",
    "ferrari = Car(2)\n",
    "ferrari.seats = 2\n",
    "\n",
    "print(ferrari.seats, ferrari.doors, ferrari.sunroof)\n",
    "print(subaru.doors, subaru.sunroof, subaru.seats)"
   ]
  },
  {
   "cell_type": "markdown",
   "metadata": {},
   "source": [
    "## Class Methods <br>\n",
    "<p>While inside of a class, functions are referred to as 'methods'. If you hear someone mention methods, they're speaking about classes. Methods are essentially functions, but only callable on the instances of a class.</p>"
   ]
  },
  {
   "cell_type": "markdown",
   "metadata": {},
   "source": [
    "##### Creating"
   ]
  },
  {
   "cell_type": "code",
   "execution_count": 28,
   "metadata": {},
   "outputs": [
    {
     "name": "stdout",
     "output_type": "stream",
     "text": [
      "56\n",
      "98\n",
      "a to add, r to remove, c to check gas, f to fill, b to check bed, q to quitracoon\n",
      "incorrect option\n",
      "a to add, r to remove, c to check gas, f to fill, b to check bed, q to quita\n",
      "what junk did you just pick up?racoon\n",
      "a to add, r to remove, c to check gas, f to fill, b to check bed, q to quitb\n",
      "racoon\n",
      "a to add, r to remove, c to check gas, f to fill, b to check bed, q to quita\n",
      "what junk did you just pick up?roadkill\n",
      "a to add, r to remove, c to check gas, f to fill, b to check bed, q to quitc\n",
      "34\n",
      "a to add, r to remove, c to check gas, f to fill, b to check bed, q to quitb\n",
      "racoon\n",
      "roadkill\n",
      "a to add, r to remove, c to check gas, f to fill, b to check bed, q to quitf\n",
      "How much did you put in?10\n",
      "added 10 gallons\n",
      "44\n",
      "a to add, r to remove, c to check gas, f to fill, b to check bed, q to quitr\n",
      "What you gonna git rid of?roadkill\n",
      "a to add, r to remove, c to check gas, f to fill, b to check bed, q to quitb\n",
      "racoon\n",
      "a to add, r to remove, c to check gas, f to fill, b to check bed, q to quitq\n"
     ]
    }
   ],
   "source": [
    "class Pickup():\n",
    "    \"\"\"\n",
    "    This is the hillbilly shopping cart!\n",
    "    \n",
    "    \"\"\"\n",
    "    \n",
    "    def __init__(self, wheels, gas_tank):\n",
    "        self.wheels = wheels\n",
    "        self.gas_tank = gas_tank\n",
    "        self.bed = []\n",
    "    def check_tank(self):\n",
    "        print(self.gas_tank)\n",
    "        \n",
    "    def check_bed(self):\n",
    "        if self.bed:\n",
    "            for item in self.bed:\n",
    "                print(item)\n",
    "        else:\n",
    "            print('Nuthin back there')\n",
    "            \n",
    "            \n",
    "    def chuck_in_back(self):\n",
    "        junk = input('what junk did you just pick up?')\n",
    "        self.bed.append(junk)\n",
    "        \n",
    "    def toss_out(self):\n",
    "        toss = input('What you gonna git rid of?')\n",
    "        self.bed.remove(toss)\n",
    "    \n",
    "    def filler_up(self):\n",
    "        gallons = int(input('How much did you put in?'))\n",
    "        self.gas_tank += gallons\n",
    "        print(f\"added {gallons} gallons\")\n",
    "        self.check_tank()\n",
    "        \n",
    "    def run(self):\n",
    "        while True:\n",
    "            menu = input(\"a to add, r to remove, c to check gas, f to fill, b to check bed, q to quit\")\n",
    "            if menu == 'a':\n",
    "                self.chuck_in_back()\n",
    "            elif menu == 'r':\n",
    "                self.toss_out()\n",
    "            elif menu == 'c':\n",
    "                self.check_tank()\n",
    "            elif menu == 'f':\n",
    "                self.filler_up()\n",
    "            elif menu == 'b':\n",
    "                self.check_bed()\n",
    "            elif menu == 'q':\n",
    "                break\n",
    "            else:\n",
    "                print('incorrect option')\n",
    "    \n",
    "p = Pickup(4, 56)\n",
    "# Pickup.method(parameter) Syntax reminder!\n",
    "p.check_tank()\n",
    "\n",
    "chev = Pickup(4, 98)\n",
    "chev.check_tank()\n",
    "\n",
    "f150 = Pickup(3, 34)\n",
    "f150.run()\n",
    "        "
   ]
  },
  {
   "cell_type": "markdown",
   "metadata": {},
   "source": [
    "##### Calling"
   ]
  },
  {
   "cell_type": "code",
   "execution_count": null,
   "metadata": {},
   "outputs": [],
   "source": [
    "# See Above"
   ]
  },
  {
   "cell_type": "markdown",
   "metadata": {},
   "source": [
    "##### Modifying an Attribute's Value Through a Method"
   ]
  },
  {
   "cell_type": "code",
   "execution_count": null,
   "metadata": {},
   "outputs": [],
   "source": [
    "# kinda like chuck_in_back for example"
   ]
  },
  {
   "cell_type": "markdown",
   "metadata": {},
   "source": [
    "##### Incrementing an Attribute's Value Through a Method"
   ]
  },
  {
   "cell_type": "code",
   "execution_count": null,
   "metadata": {},
   "outputs": [],
   "source": [
    "# kinda like filler_up for example"
   ]
  },
  {
   "cell_type": "markdown",
   "metadata": {},
   "source": [
    "##### In-Class Exercise #3 - Add a method that takes in three parameters of year, doors and seats and prints out a formatted print statement with make, model, year, seats, and doors"
   ]
  },
  {
   "cell_type": "code",
   "execution_count": null,
   "metadata": {},
   "outputs": [],
   "source": [
    "# Create class with 2 paramters inside of the __init__ which are make and model\n",
    "\n",
    "# Inside of the Car class create a method that has 4 parameter in total (self,year,door,seats)\n",
    "\n",
    "# Output: This car is from 2019 and is a Ford Expolorer and has 4 doors and 5 seats\n",
    "\n",
    "class Cars():\n",
    "    \n",
    "    def __init__(self, make, model):\n",
    "        self.make = make\n",
    "        self.model = model\n",
    "    def year(self):\n",
    "        year = input(\"What year is your Car?\")\n",
    "        self.append(year)\n",
    "        \n",
    "    def doors(self):\n",
    "        doors = input(\"How many doors does your car have?\")\n",
    "        self.\n",
    "        \n",
    "    \n",
    "        "
   ]
  },
  {
   "cell_type": "markdown",
   "metadata": {},
   "source": [
    "## Inheritance <br>\n",
    "<p>You can create a child-parent relationship between two classes by using inheritance. What this allows you to do is have overriding methods, but also inherit traits from the parent class. Think of it as an actual parent and child, the child will inherit the parent's genes, as will the classes in OOP</p>"
   ]
  },
  {
   "cell_type": "markdown",
   "metadata": {},
   "source": [
    "##### Syntax for Inheriting from a Parent Class"
   ]
  },
  {
   "cell_type": "code",
   "execution_count": 32,
   "metadata": {},
   "outputs": [
    {
     "name": "stdout",
     "output_type": "stream",
     "text": [
      "WOOF woof woof woof\n",
      "WOOF!\n"
     ]
    }
   ],
   "source": [
    "class Mammal():\n",
    "    warm_blooded = True\n",
    "    \n",
    "    \n",
    "    def __init__(self, name, species, legs = 4):\n",
    "        self.name = name\n",
    "        self.species = species\n",
    "        self.legs = legs\n",
    "        \n",
    "    def breathe(self):\n",
    "        print('....   Breathe  ....')\n",
    "        \n",
    "class Cat(Mammal):\n",
    "    pass\n",
    "\n",
    "class Dog(Mammal):\n",
    "    loyal = True\n",
    "    \n",
    "    def bark(self):\n",
    "        print('WOOF!')\n",
    "        \n",
    "class Mutt(Dog):\n",
    "    color = 'Brown'\n",
    "    \n",
    "    def __init__(self, name, species, tail, legs = 5):\n",
    "        Dog.__init__(self, name, species, legs)\n",
    "        self.tail = tail\n",
    "    def make_sound(self):\n",
    "        print('WOOF woof woof woof')\n",
    "        \n",
    "fido = Dog('Fido', 'Pompom')\n",
    "rex = Mutt('rex', 'Lab Mix', False)\n",
    "whale = Mammal('Willy', 'Orca')\n",
    "\n",
    "rex.make_sound()\n",
    "fido.bark()"
   ]
  },
  {
   "cell_type": "markdown",
   "metadata": {},
   "source": [
    "##### The \\__init\\__() Method for a Child Class - super()"
   ]
  },
  {
   "cell_type": "code",
   "execution_count": 34,
   "metadata": {
    "scrolled": true
   },
   "outputs": [
    {
     "ename": "TypeError",
     "evalue": "Mammal.__init__() takes from 3 to 4 positional arguments but 5 were given",
     "output_type": "error",
     "traceback": [
      "\u001b[0;31m---------------------------------------------------------------------------\u001b[0m",
      "\u001b[0;31mTypeError\u001b[0m                                 Traceback (most recent call last)",
      "Cell \u001b[0;32mIn[34], line 13\u001b[0m\n\u001b[1;32m      9\u001b[0m     \u001b[38;5;28;01mdef\u001b[39;00m \u001b[38;5;21mmake_sound2\u001b[39m(\u001b[38;5;28mself\u001b[39m):\n\u001b[1;32m     10\u001b[0m         \u001b[38;5;28mprint\u001b[39m(\u001b[38;5;124m'\u001b[39m\u001b[38;5;124mWOOF woof woof woof\u001b[39m\u001b[38;5;124m'\u001b[39m)\n\u001b[0;32m---> 13\u001b[0m rex2 \u001b[38;5;241m=\u001b[39m Mutt(\u001b[38;5;124m'\u001b[39m\u001b[38;5;124mRex2\u001b[39m\u001b[38;5;124m'\u001b[39m, \u001b[38;5;124m'\u001b[39m\u001b[38;5;124mChihuaua\u001b[39m\u001b[38;5;124m'\u001b[39m, \u001b[38;5;28;01mFalse\u001b[39;00m)\n",
      "Cell \u001b[0;32mIn[34], line 5\u001b[0m, in \u001b[0;36mMutt.__init__\u001b[0;34m(self, name, species, tail, legs)\u001b[0m\n\u001b[1;32m      4\u001b[0m \u001b[38;5;28;01mdef\u001b[39;00m \u001b[38;5;21m__init__\u001b[39m(\u001b[38;5;28mself\u001b[39m, name, species, tail, legs \u001b[38;5;241m=\u001b[39m \u001b[38;5;241m5\u001b[39m):\n\u001b[0;32m----> 5\u001b[0m     \u001b[38;5;28msuper\u001b[39m()\u001b[38;5;241m.\u001b[39m\u001b[38;5;21m__init__\u001b[39m(\u001b[38;5;28mself\u001b[39m, name, species, legs)\n\u001b[1;32m      6\u001b[0m     \u001b[38;5;28mself\u001b[39m\u001b[38;5;241m.\u001b[39mtail \u001b[38;5;241m=\u001b[39m tail\n",
      "\u001b[0;31mTypeError\u001b[0m: Mammal.__init__() takes from 3 to 4 positional arguments but 5 were given"
     ]
    }
   ],
   "source": [
    "class Mutt(Dog):\n",
    "    color = 'Brown'\n",
    "    \n",
    "    def __init__(self, name, species, tail, legs = 5):\n",
    "        super().__init__(self, name, species, legs)\n",
    "        self.tail = tail\n",
    "        \n",
    "        \n",
    "    def make_sound2(self):\n",
    "        print('WOOF woof woof woof')\n",
    "        \n",
    "        \n",
    "rex2 = Mutt('Rex2', 'Chihuaua', False)"
   ]
  },
  {
   "cell_type": "markdown",
   "metadata": {},
   "source": [
    "##### Defining Attributes and Methods for the Child Class"
   ]
  },
  {
   "cell_type": "code",
   "execution_count": null,
   "metadata": {},
   "outputs": [],
   "source": [
    "# See Above"
   ]
  },
  {
   "cell_type": "markdown",
   "metadata": {},
   "source": [
    "##### Method Overriding"
   ]
  },
  {
   "cell_type": "code",
   "execution_count": null,
   "metadata": {},
   "outputs": [],
   "source": [
    "# See Above"
   ]
  },
  {
   "cell_type": "markdown",
   "metadata": {},
   "source": [
    "## Classes as Attributes <br>\n",
    "<p>Classes can also be used as attributes within another class. This is useful in situations where you need to keep variables locally stored, instead of globally stored.</p>"
   ]
  },
  {
   "cell_type": "code",
   "execution_count": 37,
   "metadata": {},
   "outputs": [
    {
     "data": {
      "text/plain": [
       "'This car: Tesla M with a battery featuring 24 cells and 112 amps'"
      ]
     },
     "execution_count": 37,
     "metadata": {},
     "output_type": "execute_result"
    }
   ],
   "source": [
    "class Battery():\n",
    "    def __init__(self, cells):\n",
    "        self.cells = cells\n",
    "        self.amperage = 112\n",
    "        \n",
    "class Electric_car():\n",
    "    def __init__(self, make, model, battery):\n",
    "        self.make = make\n",
    "        self.model = model\n",
    "        self.battery = battery\n",
    "    \n",
    "    def print_info(self):\n",
    "        return f\"This car: {self.make} {self.model} with a battery featuring {self.battery.cells} cells and {self.battery.amperage} amps\"\n",
    "    \n",
    "bat = Battery(24)\n",
    "tesla = Electric_car(\"Tesla\", \"M\", bat)\n",
    "tesla.print_info()"
   ]
  },
  {
   "cell_type": "markdown",
   "metadata": {},
   "source": [
    "# Exercises"
   ]
  },
  {
   "cell_type": "markdown",
   "metadata": {},
   "source": [
    "### Exercise 1 - Turn the shopping cart program from yesterday into an object-oriented program\n",
    "\n",
    "The comments in the cell below are there as a guide for thinking about the problem. However, if you feel a different way is best for you and your own thought process, please do what feels best for you by all means."
   ]
  },
  {
   "cell_type": "code",
   "execution_count": 3,
   "metadata": {},
   "outputs": [
    {
     "name": "stdout",
     "output_type": "stream",
     "text": [
      "Type a to add items to your cart, r to return an item to the shelf, s to show your cart, or q to quita\n",
      "What do you want to add to your carteggs\n",
      "How many would you like to add?12\n",
      "You have put 12 eggs in your cart.\n",
      "Type a to add items to your cart, r to return an item to the shelf, s to show your cart, or q to quitr\n",
      "What would you like to put back?eggs\n",
      "How many?6\n",
      "You now have 6 of eggs in your cart \n",
      "Type a to add items to your cart, r to return an item to the shelf, s to show your cart, or q to quita\n",
      "What do you want to add to your cartapples\n",
      "How many would you like to add?200\n",
      "You have put 200 apples in your cart.\n",
      "Type a to add items to your cart, r to return an item to the shelf, s to show your cart, or q to quita\n",
      "What do you want to add to your cartmilk\n",
      "How many would you like to add?1\n",
      "You have put 1 milk in your cart.\n",
      "Type a to add items to your cart, r to return an item to the shelf, s to show your cart, or q to quitpeach\n",
      "Not a valid input. Please try again.\n",
      "Type a to add items to your cart, r to return an item to the shelf, s to show your cart, or q to quita\n",
      "What do you want to add to your cartpeach\n",
      "How many would you like to add?1\n",
      "You have put 1 peach in your cart.\n",
      "Type a to add items to your cart, r to return an item to the shelf, s to show your cart, or q to quits\n",
      "There are 6 eggs in your cart\n",
      "There are 200 apples in your cart\n",
      "There are 1 milk in your cart\n",
      "There are 1 peach in your cart\n",
      "Type a to add items to your cart, r to return an item to the shelf, s to show your cart, or q to quitq\n"
     ]
    }
   ],
   "source": [
    "# Create a class called cart that retains items and has methods to add, remove, and show\n",
    "\n",
    "cart = {}\n",
    "\n",
    "class Cart():\n",
    "    \n",
    "    def __init__(self, cart):\n",
    "        self.cart = cart\n",
    "    \n",
    "    def put_in_cart(self):\n",
    "        item = input('What do you want to add to your cart? ')\n",
    "        quan = int(input('How many would you like to add? '))\n",
    "        self.cart[item] = quan\n",
    "        print(f\"You have put {quan} {item} in your cart. \")\n",
    "        \n",
    "        \n",
    "    def put_back_on_shelf(self):\n",
    "        item = input('What would you like to put back? ')\n",
    "        quan = int(input('How many? '))\n",
    "        if item in self.cart:\n",
    "            self.cart[item] -= quan\n",
    "            print(f\"You now have {self.cart[item]} of {item} in your cart. \")\n",
    "            if self.cart[item] < 1:\n",
    "                del(self.cart[item])\n",
    "                print(f\"{item} has been removed from cart. \")\n",
    "        else:\n",
    "            print(f\"You now have {self.cart[item]} of {item} in your cart. \")\n",
    "        \n",
    "    \n",
    "    def show_cart(self):\n",
    "        if self.cart:\n",
    "            for k, v in self.cart.items():\n",
    "                print(f'There are {v} {k} in your cart. ')\n",
    "        else:\n",
    "            print(\"Nothing is in the cart. You might want to add some items so you don't starve. \")\n",
    "        \n",
    "    def run(self):\n",
    "        while True:\n",
    "            menu = input(\"Type a to add items to your cart, r to return an item to the shelf, s to show your cart, or q to quit. \")\n",
    "            if menu == 'a':\n",
    "                self.put_in_cart()\n",
    "            elif menu == 'r':\n",
    "                self.put_back_on_shelf()\n",
    "            elif menu == 's':\n",
    "                self.show_cart()\n",
    "            elif menu == 'q':\n",
    "                break\n",
    "            else:\n",
    "                print('Not a valid input. Please try again. ')\n",
    "trolley = Cart({})\n",
    "\n",
    "trolley.run()\n",
    "    "
   ]
  },
  {
   "cell_type": "markdown",
   "metadata": {},
   "source": [
    "### Exercise 2 - Write a Python class which has two methods get_String and print_String. get_String accept a string from the user and print_String print the string in upper case"
   ]
  },
  {
   "cell_type": "code",
   "execution_count": 4,
   "metadata": {},
   "outputs": [
    {
     "name": "stdout",
     "output_type": "stream",
     "text": [
      "Type c to create a string, p to print the string, or q to quitc\n",
      "Please type something. wow this thing prints what i type in all caps\n",
      "Type c to create a string, p to print the string, or q to quitp\n",
      "WOW THIS THING PRINTS WHAT I TYPE IN ALL CAPS\n",
      "Type c to create a string, p to print the string, or q to quitq\n"
     ]
    }
   ],
   "source": [
    "class stringifier():\n",
    "    \n",
    "    def __init__(self, words):\n",
    "        self.words = words\n",
    "    def get_string(self):\n",
    "        user_string = input(\"Please type something. \")\n",
    "        \n",
    "    def print_string(self):\n",
    "        print.upper(user_string)\n",
    "        \n",
    "    def run(self):\n",
    "        while True:\n",
    "            menu = input(\"Type c to create a string, p to print the string, or q to quit \")\n",
    "            if menu == 'c':\n",
    "                user_string = input(\"Please type something. \")\n",
    "            elif menu == 'p':\n",
    "                print(user_string.upper())\n",
    "            elif menu == 'q':\n",
    "                break\n",
    "            else:\n",
    "                print('incorrect option') \n",
    "        \n",
    "wow = stringifier(2)\n",
    "wow.run()"
   ]
  },
  {
   "cell_type": "code",
   "execution_count": null,
   "metadata": {},
   "outputs": [],
   "source": []
  }
 ],
 "metadata": {
  "kernelspec": {
   "display_name": "Python 3 (ipykernel)",
   "language": "python",
   "name": "python3"
  },
  "language_info": {
   "codemirror_mode": {
    "name": "ipython",
    "version": 3
   },
   "file_extension": ".py",
   "mimetype": "text/x-python",
   "name": "python",
   "nbconvert_exporter": "python",
   "pygments_lexer": "ipython3",
   "version": "3.11.5"
  }
 },
 "nbformat": 4,
 "nbformat_minor": 2
}
